{
 "metadata": {
  "language_info": {
   "codemirror_mode": {
    "name": "ipython",
    "version": 3
   },
   "file_extension": ".py",
   "mimetype": "text/x-python",
   "name": "python",
   "nbconvert_exporter": "python",
   "pygments_lexer": "ipython3",
   "version": "3.8.5"
  },
  "orig_nbformat": 2,
  "kernelspec": {
   "name": "python385jvsc74a57bd08fac594bfae6525c0c41b4041d2d72effa188cc8ead05f81b1fab2bb098927fb",
   "display_name": "Python 3.8.5 64-bit ('base': conda)"
  }
 },
 "nbformat": 4,
 "nbformat_minor": 2,
 "cells": [
  {
   "cell_type": "code",
<<<<<<< HEAD
   "execution_count": 5,
=======
   "execution_count": 2,
>>>>>>> 95edd8a... modified from K20
   "metadata": {},
   "outputs": [],
   "source": [
    "def test(func):\n",
<<<<<<< HEAD
    "    li = [9,8,7,6,5,4,3,2,1,0]\n",
    "    func(li)\n",
    "    print(li)"
=======
    "    li=[2,4,9,8,7,6,5,3,1,0]\n",
    "    func(li)\n",
    "    print(li) "
>>>>>>> 95edd8a... modified from K20
   ]
  },
  {
   "cell_type": "code",
<<<<<<< HEAD
   "execution_count": 15,
=======
   "execution_count": 3,
>>>>>>> 95edd8a... modified from K20
   "metadata": {},
   "outputs": [
    {
     "output_type": "stream",
     "name": "stdout",
     "text": [
      "[0, 1, 2, 3, 4, 5, 6, 7, 8, 9]\n"
     ]
    }
   ],
   "source": [
    "def bubble_sort(li):\n",
    "    for i in range(len(li)-1):\n",
    "        for j in range(len(li)-i-1):\n",
    "            if li[j] > li[j+1]:\n",
    "                li[j], li[j+1] = li[j+1], li[j]\n",
    "test(bubble_sort)"
   ]
  },
  {
   "cell_type": "code",
   "execution_count": 4,
   "metadata": {},
   "outputs": [
    {
     "output_type": "stream",
     "name": "stdout",
     "text": [
      "[0, 1, 2, 3, 4, 5, 6, 7, 8, 9]\n"
     ]
    }
   ],
   "source": [
    "def select_sort(li):\n",
    "    for i in range(len(li)-1):\n",
    "        min_location = i\n",
    "        for j in range(i+1, len(li)):\n",
    "            if li[j] < li[min_location]:\n",
    "                min_location = j\n",
    "        li[i], li[min_location] = li[min_location], li[i]\n",
    "test(select_sort)"
   ]
  },
  {
   "cell_type": "code",
   "execution_count": 6,
   "metadata": {},
   "outputs": [
    {
     "output_type": "stream",
     "name": "stdout",
     "text": [
      "[0, 1, 2, 3, 4, 5, 6, 7, 8, 9]\n"
     ]
    }
   ],
   "source": [
    "def insert_sort(li):\n",
    "    for i in range(1, len(li)):\n",
    "        tmp = li[i]\n",
    "        j = i-1\n",
    "        while j >= 0 and tmp < li[j]:\n",
    "            li[j+1] = li[j]\n",
    "            j -= 1\n",
    "        li[j+1] = tmp\n",
    "test(insert_sort)"
   ]
  }
 ]
}