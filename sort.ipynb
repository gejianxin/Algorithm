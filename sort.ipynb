{
 "metadata": {
  "language_info": {
   "codemirror_mode": {
    "name": "ipython",
    "version": 3
   },
   "file_extension": ".py",
   "mimetype": "text/x-python",
   "name": "python",
   "nbconvert_exporter": "python",
   "pygments_lexer": "ipython3",
   "version": "3.8.5"
  },
  "orig_nbformat": 2,
  "kernelspec": {
   "name": "python385jvsc74a57bd0718d91d85e7b59cfcf17c81aa38a885d0985cff083e53af9937fe7d5deb25dec",
   "display_name": "Python 3.8.5 64-bit ('base': conda)"
  }
 },
 "nbformat": 4,
 "nbformat_minor": 2,
 "cells": [
  {
   "cell_type": "code",
   "execution_count": null,
   "metadata": {},
   "outputs": [],
   "source": [
    "def test(func):\n",
    "    li = [9,8,7,6,5,4,3,2,1,0]\n",
    "    func(li)\n",
    "    print(li)"
   ]
  },
  {
   "cell_type": "code",
   "execution_count": null,
   "metadata": {},
   "outputs": [],
   "source": [
    "def bubble_sort(li):\n",
    "    for i in range(len(li)-1):\n",
    "        for j in range(len(li)-i-1):\n",
    "            if li[j] > li[j+1]:\n",
    "                li[j], li[j+1] = li[j+1], li[j]\n",
    "test(bubble_sort)"
   ]
  },
  {
   "cell_type": "code",
   "execution_count": null,
   "metadata": {},
   "outputs": [],
   "source": [
    "def select_sort(li):\n",
    "    for i in range(len(li)-1):\n",
    "        min_location = i\n",
    "        for j in range(i+1, len(li)):\n",
    "            if li[j] < li[min_location]:\n",
    "                min_location = j\n",
    "        li[i], li[min_location] = li[min_location], li[i]\n",
    "test(select_sort)"
   ]
  },
  {
   "cell_type": "code",
   "execution_count": null,
   "metadata": {},
   "outputs": [],
   "source": [
    "def insert_sort(li):\n",
    "    for i in range(1, len(li)):\n",
    "        tmp = li[i]\n",
    "        j = i-1\n",
    "        while j >= 0 and tmp < li[j]:\n",
    "            li[j+1] = li[j]\n",
    "            j -= 1\n",
    "        li[j+1] = tmp\n",
    "test(insert_sort)"
   ]
  },
  {
   "cell_type": "code",
   "execution_count": null,
   "metadata": {},
   "outputs": [],
   "source": [
    "def partition(li, left, right):\n",
    "    tmp = li[left]\n",
    "    while left < right:\n",
    "        while left < right and li[right] >= tmp:\n",
    "            right -= 1\n",
    "        li[left] = li[right]\n",
    "        while left < right and li[left] <= tmp:\n",
    "            left += 1\n",
    "        li[right] = li[left]\n",
    "    li[left] = tmp\n",
    "    return left"
   ]
  },
  {
   "cell_type": "code",
   "execution_count": null,
   "metadata": {},
   "outputs": [],
   "source": [
    "def quick_sort(li, left, right):\n",
    "    if left < right:\n",
    "        mid = partition(li, left, right)\n",
    "        quick_sort(li, left, mid-1)\n",
    "        quick_sort(li, mid+1, right)\n",
    "li = [9,8,7,6,5,4,3,2,1,0]\n",
    "quick_sort(li, 0, 9)\n",
    "print(li)"
   ]
  },
  {
   "cell_type": "code",
   "execution_count": null,
   "metadata": {},
   "outputs": [],
   "source": [
    "def sift(li, low, high):\n",
    "    i = low\n",
    "    j = i*2+1\n",
    "    tmp = li[low]\n",
    "    while j <= high:\n",
    "        if j+1 <= high and li[j] < li[j+1]:\n",
    "            j += 1\n",
    "        if tmp < li[j]:\n",
    "            li[i] = li[j]\n",
    "            i = j\n",
    "            j = i*2+1\n",
    "        else:\n",
    "            break\n",
    "    li[i] = tmp\n",
    "\n",
    "def heap_sort(li):\n",
    "    n = len(li)\n",
    "    for i in range((n-2)//2, -1, -1):\n",
    "        sift(li, i, n-1)\n",
    "    for i in range(n-1, -1, -1):\n",
    "        li[0], li[i] = li[i], li[0]\n",
    "        sift(li, 0, i-1)\n",
    "\n",
    "import random\n",
    "li = list(range(1000))\n",
    "random.shuffle(li)\n",
    "heap_sort(li)\n",
    "print(li)"
   ]
  },
  {
   "cell_type": "code",
   "execution_count": null,
   "metadata": {},
   "outputs": [],
   "source": [
    "def sift(li, low, high):\n",
    "    i = low\n",
    "    j = i*2+1\n",
    "    tmp = li[low]\n",
    "    while j <= high:\n",
    "        if j+1 <= high and li[j] > li[j+1]:\n",
    "            j += 1\n",
    "        if tmp > li[j]:\n",
    "            li[i] = li[j]\n",
    "            i = j\n",
    "            j = i*2+1\n",
    "        else:\n",
    "            break\n",
    "    li[i] = tmp\n",
    "\n",
    "def topk(li, k):\n",
    "    heap = li[0:k]\n",
    "    for i in range((k-2)//2, -1, -1):\n",
    "        sift(heap, i, k-1)\n",
    "    print(heap)\n",
    "    for i in range(k, len(li)):\n",
    "        if heap[0] < li[i]:\n",
    "            heap[0] = li[i]\n",
    "            sift(heap, 0, k-1)\n",
    "    print(heap)\n",
    "    for i in range(k-1, -1, -1):\n",
    "        heap[0], heap[i] = heap[i], heap[0]\n",
    "        sift(heap, 0, i-1)\n",
    "        print(heap[i])\n",
    "    return heap\n",
    "\n",
    "import random\n",
    "li = list(range(1000))\n",
    "random.shuffle(li)\n",
    "\n",
    "print(topk(li, 10))"
   ]
  },
  {
   "cell_type": "code",
   "execution_count": null,
   "metadata": {},
   "outputs": [],
   "source": [
    "def merge(li, low, mid, high):\n",
    "    i = low\n",
    "    j = mid + 1\n",
    "    li_tmp = []\n",
    "    while i <= mid and j <= high:\n",
    "        if li[i] < li[j]:\n",
    "            li_tmp.append(li[i])\n",
    "            i += 1\n",
    "        else:\n",
    "            li_tmp.append(li[j])\n",
    "            j += 1\n",
    "    if i <= mid: # 左侧列表有剩余元素，则右侧列表已遍历完\n",
    "        li_tmp.extend(li[i:mid+1])\n",
    "        i += 1\n",
    "    else: # 左侧列表无剩余元素，则右侧列表有剩余元素\n",
    "        li_tmp.extend(li[j:high+1])\n",
    "        j += 1\n",
    "    li[low:high+1] = li_tmp\n",
    "\n",
    "def merge_sort(li, low, high):\n",
    "    if low < high:\n",
    "        mid = (low+high)//2\n",
    "        merge_sort(li, low, mid)\n",
    "        merge_sort(li, mid+1, high)\n",
    "        merge(li, low, mid, high) #\n",
    "\n",
    "import random\n",
    "li = list(range(20))\n",
    "random.shuffle(li)\n",
    "\n",
    "merge_sort(li, 0, len(li)-1)\n",
    "print(li)"
   ]
  },
  {
   "cell_type": "code",
   "execution_count": null,
   "metadata": {},
   "outputs": [],
   "source": [
    "def insert_sort_shell(li, gap):\n",
    "    for i in range(gap, len(li)):\n",
    "        j = i - gap\n",
    "        tmp = li[i]\n",
    "        while j >= 0 and li[j] > tmp:\n",
    "            li[j+gap] = li[j]\n",
    "            j -= gap\n",
    "        li[j+gap] = tmp\n",
    "\n",
    "def shell_sort(li):\n",
    "    d = len(li) // 2\n",
    "    while d >= 1:\n",
    "        insert_sort_shell(li, d)\n",
    "        d = d // 2\n",
    "\n",
    "import random\n",
    "li = list(range(20))\n",
    "random.shuffle(li)\n",
    "shell_sort(li)\n",
    "print(li)"
   ]
  },
  {
   "cell_type": "code",
   "execution_count": null,
   "metadata": {},
   "outputs": [],
   "source": [
    "def count_sort(li, count):\n",
    "    li_count = [0 for _ in range(count+1)]\n",
    "    for val in li:\n",
    "        li_count[val] += 1\n",
    "    li.clear()\n",
    "    for ind, val in enumerate(li_count):\n",
    "        for i in range(val):\n",
    "            li.append(ind)\n",
    "\n",
    "import random\n",
    "li = [random.randint(0, 10) for _ in range(100)]\n",
    "random.shuffle(li)\n",
    "count_sort(li, 10)\n",
    "print(li)"
   ]
  }
 ]
}