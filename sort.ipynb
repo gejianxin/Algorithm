{
 "metadata": {
  "language_info": {
   "codemirror_mode": {
    "name": "ipython",
    "version": 3
   },
   "file_extension": ".py",
   "mimetype": "text/x-python",
   "name": "python",
   "nbconvert_exporter": "python",
   "pygments_lexer": "ipython3",
   "version": "3.8.5"
  },
  "orig_nbformat": 2,
  "kernelspec": {
   "name": "python385jvsc74a57bd08fac594bfae6525c0c41b4041d2d72effa188cc8ead05f81b1fab2bb098927fb",
   "display_name": "Python 3.8.5 64-bit ('base': conda)"
  }
 },
 "nbformat": 4,
 "nbformat_minor": 2,
 "cells": [
  {
   "cell_type": "code",
   "execution_count": 10,
   "metadata": {},
   "outputs": [],
   "source": [
    "def test(func):\n",
    "    li=[2,4,9,8,7,6,5,3,1,0]\n",
    "    func(li)\n",
    "    print(li)"
   ]
  },
  {
   "cell_type": "code",
   "execution_count": null,
   "metadata": {},
   "outputs": [],
   "source": [
    "def bubble_sort(li):\n",
    "    for i in range(len(li)-1):\n",
    "        for j in range(len(li)-i-1):\n",
    "            if li[j] > li[j+1]:\n",
    "                li[j], li[j+1] = li[j+1], li[j]\n",
    "test(bubble_sort)"
   ]
  },
  {
   "cell_type": "code",
   "execution_count": null,
   "metadata": {},
   "outputs": [],
   "source": [
    "def select_sort(li):\n",
    "    for i in range(len(li)-1):\n",
    "        min_location = i\n",
    "        for j in range(i+1, len(li)):\n",
    "            if li[j] < li[min_location]:\n",
    "                min_location = j\n",
    "        li[i], li[min_location] = li[min_location], li[i]\n",
    "test(select_sort)"
   ]
  },
  {
   "cell_type": "code",
   "execution_count": null,
   "metadata": {},
   "outputs": [],
   "source": [
    "def insert_sort(li):\n",
    "    for i in range(1, len(li)):\n",
    "        tmp = li[i]\n",
    "        j = i-1\n",
    "        while j >= 0 and tmp < li[j]:\n",
    "            li[j+1] = li[j]\n",
    "            j -= 1\n",
    "        li[j+1] = tmp\n",
    "test(insert_sort)"
   ]
  },
  {
   "cell_type": "code",
   "execution_count": null,
   "metadata": {},
   "outputs": [],
   "source": [
    "def partition(li, left, right):\n",
    "    tmp = li[left]\n",
    "    while left < right:\n",
    "        while left < right and li[right] >= tmp:\n",
    "            right -= 1\n",
    "        li[left] = li[right]\n",
    "        while left < right and li[left] <= tmp:\n",
    "            left += 1\n",
    "        li[right] = li[left]\n",
    "    li[left] = tmp\n",
    "    return left"
   ]
  },
  {
   "cell_type": "code",
   "execution_count": null,
   "metadata": {},
   "outputs": [],
   "source": [
    "def quick_sort(li, left, right):\n",
    "    if left < right:\n",
    "        mid = partition(li, left, right)\n",
    "        quick_sort(li, left, mid-1)\n",
    "        quick_sort(li, mid+1, right)\n",
    "li = [9,8,7,6,5,4,3,2,1,0]\n",
    "quick_sort(li, 0, 9)\n",
    "print(li)"
   ]
  },
  {
   "cell_type": "code",
   "execution_count": 12,
   "metadata": {},
   "outputs": [
    {
     "output_type": "stream",
     "name": "stdout",
     "text": [
      "[0, 1, 2, 3, 4, 5, 6, 7, 8, 9]\n"
     ]
    }
   ],
   "source": [
    "def sift(li, low, high):\n",
    "    i = low\n",
    "    j = i*2+1\n",
    "    tmp = li[low]\n",
    "    while j < high:\n",
    "        if li[j] < li[j+1]:\n",
    "            j += 1\n",
    "        if tmp < li[j]:\n",
    "            li[i] = li[j]\n",
    "            i = j\n",
    "            j = i*2+1\n",
    "        else:\n",
    "            li[i] = tmp\n",
    "            break\n",
    "    else:\n",
    "        li[i] = tmp\n",
    "\n",
    "def heap_sort(li):\n",
    "    n = len(li)\n",
    "    for i in range((n-2)//2, -1, -1):\n",
    "        sift(li, i, n-1)\n",
    "    for i in range(n-1, -1, -1):\n",
    "        li[0], li[i] = li[i], li[0]\n",
    "        sift(li, 0, i-1)\n",
    "\n",
    "test(heap_sort)"
   ]
  }
 ]
}